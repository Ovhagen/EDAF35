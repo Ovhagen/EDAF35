{
 "cells": [
  {
   "cell_type": "markdown",
   "metadata": {},
   "source": [
    "# EDAF35: Lecture 3\n",
    "\n",
    "Contents:\n",
    "- UNIX Shell Programming\n",
    "- UNIX Commands"
   ]
  },
  {
   "cell_type": "markdown",
   "metadata": {},
   "source": [
    "## Why Shell Programming ?\n",
    "\n",
    "- A program written for a shell is called a shell script.\n",
    "- Shell scripts are (almost always) interpreted \n",
    "    - *(there is a company in the USA which sold shell-compilers but they now focus on selling C++ compilers instead)*\n",
    "    - *see also the [Shell Script Compiler tool](http://www.linux-magazine.com/Online/Features/SHC-Shell-Compiler)*\n",
    "- Shell programs have some advantages over C programs:\n",
    "    - More convenient to write when dealing with files and text processing.\n",
    "    - The building blocks of the shell are of course all the usual UNIX commands.\n",
    "    - More portable.\n",
    "- However, the shell is slower than compiled languages."
   ]
  },
  {
   "cell_type": "markdown",
   "metadata": {},
   "source": [
    "## Different Shells\n",
    "\n",
    "- There are a number of shells.\n",
    "- **Bourne shell** is the original but lacked many features *(e.g. name completion)*.\n",
    "- The **csh** and **tcsh** have different syntax but were more advanced.\n",
    "- The **Korn shell** was written at Bell Labs as a superset of Bourne shell but with modern features.\n",
    "- The GNU program **Bourne Again Shell**, or bash, is similar to Korn shell.\n",
    "- We will focus on bash."
   ]
  },
  {
   "cell_type": "markdown",
   "metadata": {},
   "source": [
    "## Bash as Login Shell\n",
    "\n",
    "- Every user has a path to the login shell in the password file.\n",
    "- When you login, and have bash as login shell, bash will process the following files:\n",
    "    - `/etc/profile`\n",
    "    - First found (in `$HOME`) of `.bash_profile`, `.bash_login`, `.profile`.\n",
    "- When the login shell terminates, it will read the file `.bash_logout`."
   ]
  },
  {
   "cell_type": "code",
   "execution_count": 1,
   "metadata": {},
   "outputs": [
    {
     "name": "stdout",
     "output_type": "stream",
     "text": [
      "# System-wide .profile for sh(1)\n",
      "\n",
      "if [ -x /usr/libexec/path_helper ]; then\n",
      "\teval `/usr/libexec/path_helper -s`\n",
      "fi\n",
      "\n",
      "if [ \"${BASH-no}\" != \"no\" ]; then\n",
      "\t[ -r /etc/bashrc ] && . /etc/bashrc\n",
      "fi\n"
     ]
    }
   ],
   "source": [
    "cat /etc/profile"
   ]
  },
  {
   "cell_type": "markdown",
   "metadata": {},
   "source": [
    "## Interactive Non-Login Shell\n",
    "\n",
    "- An *interactive shell* is, of course, one which one types commands to.\n",
    "- A *non-interactive shell* is one which is executing a shell script.\n",
    "- An interactive shell which is not the login shell executes the file `.bashrc`.\n",
    "- There is a file `/etc/bashrc`, but it is not automatically read.\n",
    "- To read it automatically, insert `source /etc/bashrc` in your `.bashrc`."
   ]
  },
  {
   "cell_type": "markdown",
   "metadata": {},
   "source": [
    "## Non-Interactive Shell\n",
    "\n",
    "- Non-interactive shells do not start with reading a specific file.\n",
    "- If the environment variable `$BASH_ENV` (or `$ENV` if the bash was started as `/bin/sh`) contains a file name, then that file is read.\n",
    "- The first argument to bash itself, contains the program name, so `echo $0` usually prints `bash`."
   ]
  },
  {
   "cell_type": "code",
   "execution_count": 3,
   "metadata": {},
   "outputs": [
    {
     "name": "stdout",
     "output_type": "stream",
     "text": [
      "\n",
      "\n",
      "/bin/bash\n"
     ]
    }
   ],
   "source": [
    "echo $BASH_ENV\n",
    "echo $ENV\n",
    "echo $0"
   ]
  },
  {
   "cell_type": "markdown",
   "metadata": {},
   "source": [
    "## `Source` Builting Command\n",
    "\n",
    "- To ask the current shell to read some commands use the `source filename` command.\n",
    "- You can use `.` instead of `source`."
   ]
  },
  {
   "cell_type": "markdown",
   "metadata": {},
   "source": [
    "## Aliases and Noclobber\n",
    "\n",
    "- UNIX commands perform their tasks without asking the user whether he/she really means what he/she just typed. This is very convenient (most of the time).\n",
    "- For instance the rm command has an option -i to ask for confirmation before a file is removed.\n",
    "    - Sometimes people put the command `alias rm=’rm -i’` in a bash start file.\n",
    "- A similar feature is to use the command: `set -o noclobber` which avoids deleting an existing file with I/O redirection (e.g. `ls > x`).\n",
    "- All such features should be avoided (in my *Jonas* opinion) since they just reduce productivity and make people think UNIX is a safe place."
   ]
  },
  {
   "cell_type": "markdown",
   "metadata": {},
   "source": [
    "## I/O Redirection\n",
    "\n",
    "- `< file` Use file as stdin.\n",
    "- `> file` Use file as stdout.\n",
    "- `>> file` Append output to file.\n",
    "- `2> file` Use file as stderr.\n",
    "- `2>&1` Close stderr and dup stdout to stderr.\n",
    "- `cmd1 | cmd2` Use the stdout from `cmd1` as stdin for `cmd2` (aka *pipe*)"
   ]
  },
  {
   "cell_type": "code",
   "execution_count": 2,
   "metadata": {},
   "outputs": [
    {
     "name": "stdout",
     "output_type": "stream",
     "text": [
      "Hello\n",
      " world!\n",
      " world!\n",
      " world!\n"
     ]
    }
   ],
   "source": [
    "#echo 'Hello' > f1\n",
    "echo ' world!' >> f1\n",
    "cat < f1"
   ]
  },
  {
   "cell_type": "markdown",
   "metadata": {},
   "source": [
    "## Shell Script Basics\n",
    "\n",
    "- The first line should contain the line `#!/bin/bash`\n",
    "- To make the script executable, use `chmod a+x file`.\n",
    "- A line comment is started with #.\n",
    "- Commands are separated with newline or semicolon `;`.\n",
    "- Backslash `\\` continues a command on the next line.\n",
    "- Parenthesis `()` group commands and lets a new shell execute the group."
   ]
  },
  {
   "cell_type": "markdown",
   "metadata": {},
   "source": [
    "## More About Parentheses\n",
    "\n",
    "- A subshell has its own shell variables such as current directory.\n",
    "- The builtin `cd` does not read from stdin, so we can pipe as follows:\n",
    "    `(cd ; ls) | (cd ˜/Desktop; cat > ls-in-home)`"
   ]
  },
  {
   "cell_type": "code",
   "execution_count": 6,
   "metadata": {},
   "outputs": [
    {
     "name": "stdout",
     "output_type": "stream",
     "text": [
      "bash: cd: ˜/Desktop: No such file or directory\n",
      "Box Sync\n",
      "Desktop\n",
      "Documents\n",
      "Downloads\n",
      "Dropbox\n",
      "Library\n",
      "Movies\n",
      "Music\n",
      "Pictures\n",
      "Privat\n",
      "Public\n",
      "Qt\n",
      "Sites\n",
      "Terminal Saved Output\n",
      "bin\n",
      "gcviewer.properties\n",
      "git\n",
      "go\n",
      "node_modules\n",
      "target\n",
      "temp\n"
     ]
    }
   ],
   "source": [
    "(cd ; ls) | (cd ˜/Desktop; cat > ls-in-home)\n",
    "cat ls-in-home"
   ]
  },
  {
   "cell_type": "markdown",
   "metadata": {},
   "source": [
    "## Shell Variables\n",
    "- Shell variables do not have to be declared — just assign to them:\n",
    "```\n",
    "$ a=unix\n",
    "$ echo $a\n",
    "$ b=wrong rm can have unexpected results\n",
    "$ c=\"wrong rm can have unexpected results\"\n",
    "```\n",
    "\n",
    "- The difference between the last two assignments is significant (see prepend variables definition to command). \n",
    "- A shell variable is by default local to the shell but can be exported to child processes using: \n",
    "```\n",
    "$ export a\n",
    "```\n",
    "- C/C++ programs get the value using `char* value = getenv(\"VAR\");`"
   ]
  },
  {
   "cell_type": "code",
   "execution_count": 2,
   "metadata": {},
   "outputs": [
    {
     "name": "stdout",
     "output_type": "stream",
     "text": [
      "unix\n",
      "rm: can: No such file or directory\n",
      "rm: have: No such file or directory\n",
      "rm: unexpected: No such file or directory\n",
      "rm: results: No such file or directory\n",
      "\n",
      "wrong rm can have unexpected results\n"
     ]
    }
   ],
   "source": [
    "a=unix\n",
    "echo $a\n",
    "b=wrong rm can have unexpected results\n",
    "echo $b\n",
    "c=\"wrong rm can have unexpected results\"\n",
    "echo $c"
   ]
  },
  {
   "cell_type": "code",
   "execution_count": 16,
   "metadata": {},
   "outputs": [
    {
     "name": "stdout",
     "output_type": "stream",
     "text": [
      "once upon a time\n"
     ]
    }
   ],
   "source": [
    "x=\"once upon\" y=\"a time\" bash -c 'echo $x $y'"
   ]
  },
  {
   "cell_type": "markdown",
   "metadata": {},
   "source": [
    "## Using Shell Variables\n",
    "\n",
    "- Use a dollar sign before the name to get the value: `$HOME`.\n",
    "- If you wish to concatenate a shell variable and a string, use `${VAR}suffix`\n",
    "    - without `{}` you get wrong identifier"
   ]
  },
  {
   "cell_type": "code",
   "execution_count": 19,
   "metadata": {},
   "outputs": [
    {
     "name": "stdout",
     "output_type": "stream",
     "text": [
      "bumble\n",
      "bumblebee\n",
      "\n"
     ]
    }
   ],
   "source": [
    "b=bumble\n",
    "echo $b\n",
    "echo ${b}bee\n",
    "echo $bbee"
   ]
  },
  {
   "cell_type": "markdown",
   "metadata": {},
   "source": [
    "## More about Using Shell Variables\n",
    "\n",
    "- The value of `${var-thing}` is `$var` if var is defined, otherwise `thing` were thing is not expanded. Value of var is unchanged.\n",
    "- The value of `${var=thing}` is `$var` if var is defined, otherwise `thing` and var is set to thing.\n",
    "- The value of `${var+thing}` is thing if `var` is defined, otherwise nothing.\n",
    "- The value of `${var?message}` is `$var` if var is defined, otherwise a message is printed and the shell exits."
   ]
  },
  {
   "cell_type": "code",
   "execution_count": 3,
   "metadata": {},
   "outputs": [
    {
     "name": "stdout",
     "output_type": "stream",
     "text": [
      "unix\n",
      "nothing\n",
      "\n",
      "everything\n",
      "everything\n",
      "bash: d: Variable d not defined\n"
     ]
    },
    {
     "ename": "",
     "evalue": "1",
     "output_type": "error",
     "traceback": []
    }
   ],
   "source": [
    "echo ${a-something}\n",
    "echo ${d-nothing}\n",
    "echo $d\n",
    "echo ${e=everything}\n",
    "echo $e\n",
    "echo ${d?Variable d not defined}"
   ]
  },
  {
   "cell_type": "markdown",
   "metadata": {},
   "source": [
    "## PS1 and PS2\n",
    "- The prompts, `$` and `>` are called the primary and secondary prompts. These were the original values of these and they are stored in PS1 and PS2.\n",
    "- For the root user, the prompt is `#`\n",
    "- It is possible to get a more informative prompt by using the escapes: e.g. `PS1=\"\\w \"`\n",
    "    - `\\$` # if root, otherwise dollar.\n",
    "    - `\\!` Current history number (see below).\n",
    "    - `\\w` Pathname of working directory.\n",
    "    - `\\W` Basename of working directory.\n",
    "    - `\\h` Hostname.\n",
    "    - `\\H` Hostname including domain.\n",
    "    - `\\u` User.\n",
    "    - `\\t` 24-hour time.\n",
    "    - `\\d` Date."
   ]
  },
  {
   "cell_type": "markdown",
   "metadata": {},
   "source": [
    "## Reexecuting Commands with a Builtin Editor\n",
    "- To reexecute a command, use either the builtin editor (vi or emacs) as specified in your `.inputrc` file.\n",
    "- `.inputrc` can contain e.g. `set editing-mode vi`\n",
    "- Using the editor is very convenient since you can change the command if it didn’t work as expected. Simply hit ESC (for vi).\n",
    "- This is a convenient way to experiment with new commands."
   ]
  },
  {
   "cell_type": "markdown",
   "metadata": {},
   "source": [
    "## Reexecuting Commands with an Exclamation\n",
    "Commands available include:\n",
    "- `!!` Reexecute most recent command.\n",
    "- `!n` Reexecute command number n.\n",
    "- `!-n` Reexecute the nth preceding command.\n",
    "- `!string` Redo the most recent command starting with string.\n",
    "- `!?string` Redo the most recent command containing string.\n",
    "- The last word on the previous command can be refered to as `!$`\n",
    "\n",
    "Check also `history`"
   ]
  },
  {
   "cell_type": "code",
   "execution_count": 3,
   "metadata": {},
   "outputs": [
    {
     "name": "stdout",
     "output_type": "stream",
     "text": [
      "EDAF35 Lecture 3.ipynb\tls-in-home\t\tsvib\n",
      "a.c\t\t\tsvi\n",
      "f1\t\t\tsvia\n",
      "f1\n",
      "-rw-r--r--  1 flagr  staff  30 Mar 27 10:29 f1\n",
      "ls -al f1\n",
      "-rw-r--r--  1 flagr  staff  30 Mar 27 10:29 f1\n",
      "bash: !557: event not found\n",
      "ls -al f1\n",
      "-rw-r--r--  1 flagr  staff  30 Mar 27 10:29 f1\n"
     ]
    }
   ],
   "source": [
    "ls\n",
    "ls f1\n",
    "ls -al f1\n",
    "!!\n",
    "!557\n",
    "!-2"
   ]
  },
  {
   "cell_type": "code",
   "execution_count": 15,
   "metadata": {},
   "outputs": [
    {
     "name": "stdout",
     "output_type": "stream",
     "text": [
      "-rw-r--r--  1 flagr  staff  176 Mar 26 11:07 ls-in-home\n",
      "cat ls-in-home\n",
      "Box Sync\n",
      "Desktop\n",
      "Documents\n",
      "Downloads\n",
      "Dropbox\n",
      "Library\n",
      "Movies\n",
      "Music\n",
      "Pictures\n",
      "Privat\n",
      "Public\n",
      "Qt\n",
      "Sites\n",
      "Terminal Saved Output\n",
      "bin\n",
      "gcviewer.properties\n",
      "git\n",
      "go\n",
      "node_modules\n",
      "target\n",
      "temp\n"
     ]
    }
   ],
   "source": [
    "ls -al ls-in-home\n",
    "cat !$"
   ]
  },
  {
   "cell_type": "code",
   "execution_count": 5,
   "metadata": {},
   "outputs": [
    {
     "name": "stdout",
     "output_type": "stream",
     "text": [
      "   21  cd somestupid/\n",
      "   22  ls\n",
      "   23  less file5\n",
      "   24  less file54\n",
      "   25  cd..\n",
      "   26  cd ..\n",
      "   27  ls\n",
      "   28  man perror\n",
      "   29  man waitpid\n",
      "   30  man snprintf\n",
      "   31  ls\n",
      "   32  cd ..\n",
      "   33  ls\n",
      "   34  cd 2018/\n",
      "   35  ls\n",
      "   36  cd labs/\n",
      "   37  ls\n",
      "   38  cd lab3_fs/\n",
      "   39  ls\n",
      "   40  cd myfs/\n",
      "   41  ls\n",
      "   42  less file54 \n",
      "   43  cd ..\n",
      "   44  ls -al\n",
      "   45  less TEST_FS \n",
      "   46  ls\n",
      "   47  cd myfs/\n",
      "   48  ls\n",
      "   49  cd ..\n",
      "   50  ls\n",
      "   51  man atoi\n",
      "   52  man itoa\n",
      "   53  man itoa\n",
      "   54  ls\n",
      "   55  cd myfs/\n",
      "   56  ls\n",
      "   57  ls\n",
      "   58  cd..\n",
      "   59  ls myfs\n",
      "   60  ls myfs&\n",
      "   61  ls myfs/\n",
      "   62  cd ..\n",
      "   63  ls\n",
      "   64  cd myfs/\n",
      "   65  ls\n",
      "   66  cd ..\n",
      "   67  man snprintf\n",
      "   68  cd myfs/\n",
      "   69  ls\n",
      "   70  ls\n",
      "   71  ls\n",
      "   72  cd ..\n",
      "   73  ls\n",
      "   74  cd myfs/\n",
      "   75  ls\n",
      "   76  cat 0\n",
      "   77  cd ..\n",
      "   78  ls\n",
      "   79  ls\n",
      "   80  cd myfs/\n",
      "   81  ls\n",
      "   82  cd ..\n",
      "   83  ls\n",
      "   84  cd myfs/\n",
      "   85  ls\n",
      "   86  ls -al\n",
      "   87  less 1\n",
      "   88  ls -al\n",
      "   89  ls -al\n",
      "   90  cd ..\n",
      "   91  ls\n",
      "   92  cd myfs/\n",
      "   93  ls\n",
      "   94  less 3\n",
      "   95  less 9\n",
      "   96  ls -al\n",
      "   97  less 8\n",
      "   98  man ls\n",
      "   99  more 0\n",
      "  100  more 9\n",
      "  101  cat 0\n",
      "  102  cd ..\n",
      "  103  ls\n",
      "  104  cd myfs/\n",
      "  105  ls\n",
      "  106  more 9\n",
      "  107  cd ,,\n",
      "  108  cd ..\n",
      "  109  cd myfs/\n",
      "  110  ls\n",
      "  111  more 8\n",
      "  112  more 7\n",
      "  113  cd ..\n",
      "  114  ls\n",
      "  115  cd myfs/\n",
      "  116  ls\n",
      "  117  more 9\n",
      "  118  cd ..\n",
      "  119  cd myfs/\n",
      "  120  ls\n",
      "  121  more 3\n",
      "  122  cd ..\n",
      "  123  cd myfs/\n",
      "  124  ls\n",
      "  125  more 8\n",
      "  126  cd ..\n",
      "  127  cd myfs/\n",
      "  128  ls\n",
      "  129  more 8\n",
      "  130  cd ..\n",
      "  131  cd myfs/\n",
      "  132  more 6\n",
      "  133  more 9\n",
      "  134  cp 9 6\n",
      "  135  cat \"Hej\" > 6\n",
      "  136  ls\n",
      "  137  more 6\n",
      "  138  echo Hej > 6\n",
      "  139  echo Hej >> 6\n",
      "  140  echo Hej > 6\n",
      "  141  cd ..\n",
      "  142  ls\n",
      "  143  cd myfs/\n",
      "  144  ls\n",
      "  145  pico 6\n",
      "  146  cd ..\n",
      "  147  ls\n",
      "  148  ls myfs/\n",
      "  149  pico myfs/6\n",
      "  150  more myfs/6\n",
      "  151  cp myfs/8 myfs/6\n",
      "  152  man -s 2 chmod\n",
      "  153  man -s 2 chown\n",
      "  154  man -s 2 chmod\n",
      "  155  cp myfs/8 myfs/6\n",
      "  156  cp myfs/8 myfs/6\n",
      "  157  cp myfs/8 myfs/6\n",
      "  158  more myfs/6\n",
      "  159  more myfs/6\n",
      "  160  more myfs/8\n",
      "  161  more myfs/9\n",
      "  162  cp myfs/9 myfs/6\n",
      "  163  more myfs/6\n",
      "  164  cp myfs/9 myfs/6\n",
      "  165  cp myfs/9 myfs/6\n",
      "  166  more myfs/6\n",
      "  167  echo Hello! > myfs/6\n",
      "  168  more myfs/6\n",
      "  169  echo Hello! > myfs/6\n",
      "  170  more myfs/6\n",
      "  171  SU CSADMIN\n",
      "  172  su csadmin\n",
      "  173  ssh cs-fgr@cs.student.lth.se\n",
      "  174  pico /Users/flagr/.ssh/known_hosts\n",
      "  175  ssh cs-fgr@cs.student.lth.se\n",
      "  176  su csadmin\n",
      "  177  man strrchr\n",
      "  178  strbrk\n",
      "  179  strpbrk\n",
      "  180  man strpbrk\n",
      "  181  man strtol\n",
      "  182  man strtok\n",
      "  183  man strsep\n",
      "  184  man snprintf\n",
      "  185  echo hi\n",
      "  186  hahah :q!\n",
      "  187  echo lalalmmmmAabubgu\n",
      "  188  pico .inputrc \n",
      "  189  exit\n",
      "  190  echo hishss  dlofjjf iis\n",
      "  191  exit\n",
      "  192  PS1='[PEXP\\[\\]ECT_PROMPT>' PS2='[PEXP\\[\\]ECT_PROMPT+' PROMPT_COMMAND=''\n",
      "  193  export PAGER=cat\n",
      "  194  display () {     TMPFILE=$(mktemp ${TMPDIR-/tmp}/bash_kernel.XXXXXXXXXX);     cat > $TMPFILE;     echo \"bash_kernel: saved image data to: $TMPFILE\" >&2; }\n",
      "  195  - There are a number of shells.\n",
      "  196  - **Bourne shell** is the original but lacked many features *(e.g. name completion)*.\n",
      "  197  - The **csh** and **tcsh** have different syntax but were more advanced.\n",
      "  198  - The **Korn shell** was written at Bell Labs as a superset of Bourne shell but with modern features.\n",
      "  199  - The GNU program **Bourne Again Shell**, or bash, is similar to Korn shell.\n",
      "  200  - We will focus on bash.\n",
      "  201  echo $?\n",
      "  202  echo $0\n",
      "  203  echo $?\n",
      "  204  echo $BASH_ENV\n",
      "  205  echo $ENV\n",
      "  206  echo $0\n",
      "  207  echo $?\n",
      "  208  less /etc/profile\n",
      "  209  PS1='[PEXP\\[\\]ECT_PROMPT>' PS2='[PEXP\\[\\]ECT_PROMPT+' PROMPT_COMMAND=''\n",
      "  210  export PAGER=cat\n",
      "  211  display () {     TMPFILE=$(mktemp ${TMPDIR-/tmp}/bash_kernel.XXXXXXXXXX);     cat > $TMPFILE;     echo \"bash_kernel: saved image data to: $TMPFILE\" >&2; }\n",
      "  212  cat /etc/profile\n",
      "  213  echo $?\n",
      "  214  echo 'Hello world!' > f1\n",
      "  215  echo - < f1\n",
      "  216  echo $?\n",
      "  217  cat\n",
      "  218  echo 'Hello world!' > f1\n",
      "  219  cat < f1\n",
      "  220  echo $?\n",
      "  221  echo 'Hello' > f1\n",
      "  222  echo ' world!' >> f1\n",
      "  223  cat < f1\n",
      "  224  echo $?\n",
      "  225  (cd ; ls) | (cd ˜/Desktop; cat > ls-in-home)\n",
      "  226  cat ls-in-home\n",
      "  227  echo $?\n",
      "  228  ls\n",
      "  229  echo $?\n",
      "  230  cat ls-in-home\n",
      "  231  echo $?\n",
      "  232  a=unix\n",
      "  233  echo $a\n",
      "  234  b=wrong rm can have unexpected results\n",
      "  235  echo $b\n",
      "  236  c=\"wrong rm can have unexpected results\"\n",
      "  237  echo $c\n",
      "  238  echo $?\n",
      "  239  echo $b\n",
      "  240  echo $?\n",
      "  241  b=wrong unexpected results\n",
      "  242  echo $b\n",
      "  243  echo $?\n",
      "  244  echo $b\n",
      "  245  echo $?\n",
      "  246  b=wrong echo $b\n",
      "  247  echo $?\n",
      "  248  b=wrong sh -c `echo $b`\n",
      "  249  echo $?\n",
      "  250  b=wrong sh -c 'echo $b'\n",
      "  251  echo $?\n",
      "  252  x=\"once upon\" y=\"a time\" bash -c 'echo $x $y'\n",
      "  253  echo $?\n",
      "  254  b=wrong\n",
      "  255  echo $b\n",
      "  256  echo $?\n",
      "  257  b=bumble\n",
      "  258  echo $b\n",
      "  259  echo ${b}bee\n",
      "  260  echo $?\n",
      "  261  b=bumble\n",
      "  262  echo $b\n",
      "  263  echo ${b}bee\n",
      "  264  echo $bbee\n",
      "  265  echo $?\n",
      "  266  echo ${a-something}\n",
      "  267  echo $?\n",
      "  268  echo ${a-something}\n",
      "  269  echo ${d-nothing}\n",
      "  270  echo $?\n",
      "  271  echo ${a-something}\n",
      "  272  echo ${d-nothing}\n",
      "  273  echo $d\n",
      "  274  echo ${e=everything}\n",
      "  275  echo $e\n",
      "  276  echo ${d?Variable d not defined}\n",
      "  277  echo $?\n",
      "  278  echo ${a-something}\n",
      "  279  echo ${d-nothing}\n",
      "  280  echo $d\n",
      "  281  echo ${e=everything}\n",
      "  282  echo $e\n",
      "  283  echo ${d?Variable d not defined}\n",
      "  284  echo $?\n",
      "  285  echo ${a-something}\n",
      "  286  echo ${d-nothing}\n",
      "  287  echo $d\n",
      "  288  echo ${e=everything}\n",
      "  289  echo $e\n",
      "  290  echo ${d?\"Variable d not defined\"}\n",
      "  291  echo $?\n",
      "  292  echo ${a-something}\n",
      "  293  echo ${d-nothing}\n",
      "  294  echo $d\n",
      "  295  echo ${e=everything}\n",
      "  296  echo $e\n",
      "  297  echo ${d?'Variable d not defined'}\n",
      "  298  echo $?\n",
      "  299  echo ${a-something}\n",
      "  300  echo ${d-nothing}\n",
      "  301  echo $d\n",
      "  302  echo ${e=everything}\n",
      "  303  echo $e\n",
      "  304  echo ${d?Variable d not defined}\n",
      "  305  echo $?\n",
      "  306  PS2=\"\\u@\\W >\"\n",
      "  307  echo $?\n",
      "  308  PS1=\"\\u@\\H:\\w >\"\n",
      "  309  PS1='[PEXP\\[\\]ECT_PROMPT>' PS2='[PEXP\\[\\]ECT_PROMPT+' PROMPT_COMMAND=''\n",
      "  310  export PAGER=cat\n",
      "  311  display () {     TMPFILE=$(mktemp ${TMPDIR-/tmp}/bash_kernel.XXXXXXXXXX);     cat > $TMPFILE;     echo \"bash_kernel: saved image data to: $TMPFILE\" >&2; }\n",
      "  312  echo ${a-something}\n",
      "  313  echo ${d-nothing}\n",
      "  314  echo $d\n",
      "  315  echo ${e=everything}\n",
      "  316  echo $e\n",
      "  317  echo ${d?Variable d not defined}\n",
      "  318  echo $?\n",
      "  319  a=unix\n",
      "  320  echo $a\n",
      "  321  b=wrong rm can have unexpected results\n",
      "  322  echo $b\n",
      "  323  c=\"wrong rm can have unexpected results\"\n",
      "  324  echo $c\n",
      "  325  echo $?\n",
      "  326  echo ${a-something}\n",
      "  327  echo ${d-nothing}\n",
      "  328  echo $d\n",
      "  329  echo ${e=everything}\n",
      "  330  echo $e\n",
      "  331  echo ${d?Variable d not defined}\n",
      "  332  echo $?\n",
      "  333  echo $?\n",
      "  334  echo $?\n",
      "  335  ls f1\n",
      "  336  ls f1\n",
      "  337  echo $?\n",
      "  338  ls f1\n",
      "  339  ls -al f1\n",
      "  340  ls -al f1\n",
      "  341  !\n",
      "  342  echo $?\n",
      "  343  ls\n",
      "  344  ls f1\n",
      "  345  ls -al f1\n",
      "  346  ls -al f1\n",
      "  347  echo $?\n",
      "  348  ls\n",
      "  349  ls f1\n",
      "  350  ls -al f1\n",
      "  351  ls -al f1\n",
      "  352  echo $?\n",
      "  353  ls\n",
      "  354  ls f1\n",
      "  355  ls -al f1\n",
      "  356  ls -al f1\n",
      "  357  ls -al f1\n",
      "  358  echo $?\n",
      "  359  ls\n",
      "  360  ls f1\n",
      "  361  ls -al f1\n",
      "  362  ls -al f1\n",
      "  363  ls -al f1\n",
      "  364  hi\n",
      "  365  echo $?\n",
      "  366  ls\n",
      "  367  ls f1\n",
      "  368  ls -al f1\n",
      "  369  ls -al f1\n",
      "  370  ls -al f1\n",
      "  371  history\n",
      "  372  echo $?\n",
      "  373  ls\n",
      "  374  ls f1\n",
      "  375  ls -al f1\n",
      "  376  ls -al f1\n",
      "  377  echo $?\n",
      "  378  ls -al f1\n",
      "  379  history\n",
      "  380  echo $?\n",
      "  381  ls\n",
      "  382  ls f1\n",
      "  383  ls -al f1\n",
      "  384  ls -al f1\n",
      "  385  echo $?\n",
      "  386  ls -al f1\n",
      "  387  echo $?\n",
      "  388  ls ls-in-home\n",
      "  389  cat ls-in-home\n",
      "  390  echo $?\n",
      "  391  ls -al ls-in-home\n",
      "  392  cat ls-in-home\n",
      "  393  echo $?\n",
      "  394  echo ‘du -ks * | sort -n | awk ’ { print $2 } ’‘\n",
      "  395  echo $?\n",
      "  396  du -ks * | sort -n | awk ’ { print $2 } ’\n",
      "  397  echo $?\n",
      "  398  du -ks * | sort -n | awk '{ print $2 }'\n",
      "  399  echo $?\n",
      "  400  echo 'du -ks * | sort -n | awk '{ print $2 }''\n",
      "  401  echo $?\n",
      "  402  echo ‘du -ks * | sort -n | awk '{ print $2 }'‘\n",
      "  403  echo $?\n",
      "  404  echo \"du -ks * | sort -n | awk '{ print $2 }'\"\n",
      "  405  echo $?\n",
      "  406  echo $(du -ks * | sort -n | awk '{ print $2 }')\n",
      "  407  echo $?\n",
      "  408  echo `du -ks * | sort -n | awk '{ print $2 }'`\n",
      "  409  echo $?\n",
      "  410  variable=$(cat <<SETVAR\n",
      "  411  This variable\n",
      "  412  runs over multiple lines.\n",
      "  413  SETVAR\n"
     ]
    },
    {
     "name": "stdout",
     "output_type": "stream",
     "text": [
      "  414  )\n",
      "  415  echo \"$variable\"\n",
      "  416  echo $?\n",
      "  417  function fun() { echo $1 # echo first argument; echo $2 # echo second argument; }\n",
      "  418  fun ha hi\n",
      "  419  fun he ho hu\n",
      "  420  fun hi\n",
      "  421  echo $?\n",
      "  422  for x in *.c; do     lpr $x; done\n",
      "  423  echo $?\n",
      "  424  for x in *; do     lpr $x; done\n",
      "  425  echo $?\n",
      "  426  for x in *; do     echo $x; done\n",
      "  427  echo $?\n",
      "  428  for x in *; do     echo $x; done\n",
      "  429  echo $?\n",
      "  430  a=\"x y z\"\n",
      "  431  for s in $a; do     echo $s; done\n",
      "  432  echo $?\n",
      "  433  for s in a b c; do     echo $s; done\n",
      "  434  echo $?\n",
      "  435  ls -l | cut -c2-10\n",
      "  436  echo $?\n",
      "  437  ls -l | cut -c2-10 -c51-55\n",
      "  438  echo $?\n",
      "  439  ls\n",
      "  440  echo $?\n",
      "  441  find . -name ’*.ipynb’\n",
      "  442  echo $?\n",
      "  443  find . -name '*.ipynb'\n",
      "  444  echo $?\n",
      "  445  wc `find . -name '*.ipynb'`\n",
      "  446  echo $?\n",
      "  447  man find\n",
      "  448  echo $?\n",
      "  449  awk ’{ print $1, $5; }’\n",
      "  450  echo $?\n",
      "  451  awk '{ print $1, $5; }'\n",
      "  452  echo a b c d e | awk '{ print $1, $5; }'\n",
      "  453  echo $?\n",
      "  454  echo a b c d e | sed 's/a/1/g' | cat\n",
      "  455  echo $?\n",
      "  456  echo a b c d e | sed 's/a/1/g'\n",
      "  457  echo $?\n",
      "  458  echo a b c d a | sed 's/a/Hahahah/g'\n",
      "  459  echo $?\n",
      "  460  vi -c /$1 `egrep -e $1 *.[ch] */*.[ych] | awk -F: '{ print $1; }' | uniq | sort`\n",
      "  461  PS1='[PEXP\\[\\]ECT_PROMPT>' PS2='[PEXP\\[\\]ECT_PROMPT+' PROMPT_COMMAND=''\n",
      "  462  export PAGER=cat\n",
      "  463  display () {     TMPFILE=$(mktemp ${TMPDIR-/tmp}/bash_kernel.XXXXXXXXXX);     cat > $TMPFILE;     echo \"bash_kernel: saved image data to: $TMPFILE\" >&2; }\n",
      "  464  egrep -e $1 *.[ch] */*.[ych] | awk -F: '{ print $1; }' | uniq | sort\n",
      "  465  echo $?\n",
      "  466  grep abc EDAF*\n",
      "  467  echo $?\n",
      "  468  grep abc EDAF*\n",
      "  469  echo $?\n",
      "  470  grep '[^abc]' EDA*\n",
      "  471  echo $?\n",
      "  472  grep -e '[^abc]' EDA*\n",
      "  473  echo $?\n",
      "  474  grep -e '[^abc]' f1\n",
      "  475  echo $?\n",
      "  476  grep -e '[^aeo]' f1\n",
      "  477  echo $?\n",
      "  478  grep '[^aeo]' f1\n",
      "  479  echo $?\n",
      "  480  grep '[^o]' f1\n",
      "  481  echo $?\n",
      "  482  grep -e '[^o]' f1\n",
      "  483  echo $?\n",
      "  484  grep -E '[^o]' f1\n",
      "  485  echo $?\n",
      "  486  grep -e \"[^o]\" f1\n",
      "  487  echo $?\n",
      "  488  grep -e '[^H]' f1\n",
      "  489  echo $?\n",
      "  490  grep -e '[^leoH]' f1\n",
      "  491  echo $?\n",
      "  492  grep -e '[^leo]' f1\n",
      "  493  echo $?\n",
      "  494  sort f1\n",
      "  495  echo $?\n",
      "  496  sort f1\n",
      "  497  sort -n f1\n",
      "  498  echo $?\n",
      "  499  cat svi\n",
      "  500  echo $?\n",
      "  501  PS1='[PEXP\\[\\]ECT_PROMPT>' PS2='[PEXP\\[\\]ECT_PROMPT+' PROMPT_COMMAND=''\n",
      "  502  export PAGER=cat\n",
      "  503  display () {     TMPFILE=$(mktemp ${TMPDIR-/tmp}/bash_kernel.XXXXXXXXXX);     cat > $TMPFILE;     echo \"bash_kernel: saved image data to: $TMPFILE\" >&2; }\n",
      "  504  #echo 'Hello' > f1\n",
      "  505  echo ' world!' >> f1\n",
      "  506  cat < f1\n",
      "  507  echo $?\n",
      "  508  #echo 'Hello' > f1\n",
      "  509  echo ' world!' >> f1\n",
      "  510  cat < f1\n",
      "  511  echo $?\n",
      "  512  ls\n",
      "  513  ls f1\n",
      "  514  ls -al f1\n",
      "  515  ls -al f1\n",
      "  516  ls -al f1\n",
      "  517  echo $?\n",
      "  518  history\n",
      "  519  echo $?\n",
      "  520  history\n",
      "ls\n",
      "EDAF35 Lecture 3.ipynb\tls-in-home\t\tsvib\n",
      "a.c\t\t\tsvi\n",
      "f1\t\t\tsvia\n"
     ]
    }
   ],
   "source": [
    "history\n",
    "!39"
   ]
  },
  {
   "cell_type": "markdown",
   "metadata": {},
   "source": [
    "## Quotation Marks\n",
    "- There are three kinds of quotation marks:\n",
    "    - in a string enclosed by `\"`: variables are expanded.\n",
    "    - in a string enclosed by `’`: variables are not expanded.\n",
    "    - the value of `‘string‘` is the stdout from executing string as a command and removing each trailing newline character:\n",
    "```\n",
    "$ rm ‘du -ks * | sort -n | awk ’ { print $2 } ’‘ # remove big file/directory\n",
    "```\n",
    "*Note:* the last form (back single quote) is equivalent to `$(command)`.\n"
   ]
  },
  {
   "cell_type": "code",
   "execution_count": 6,
   "metadata": {},
   "outputs": [
    {
     "name": "stdout",
     "output_type": "stream",
     "text": [
      "a.c\n",
      "f1\n",
      "ls-in-home\n",
      "svi\n",
      "svia\n",
      "svib\n",
      "EDAF35\n"
     ]
    }
   ],
   "source": [
    "du -ks * | sort -n | awk '{ print $2 }'"
   ]
  },
  {
   "cell_type": "code",
   "execution_count": 7,
   "metadata": {},
   "outputs": [
    {
     "name": "stdout",
     "output_type": "stream",
     "text": [
      "a.c f1 ls-in-home svi svia svib EDAF35\n"
     ]
    }
   ],
   "source": [
    "echo $(du -ks * | sort -n | awk '{ print $2 }')"
   ]
  },
  {
   "cell_type": "code",
   "execution_count": 8,
   "metadata": {},
   "outputs": [
    {
     "name": "stdout",
     "output_type": "stream",
     "text": [
      "a.c f1 ls-in-home svi svia svib EDAF35\n"
     ]
    }
   ],
   "source": [
    "echo `du -ks * | sort -n | awk '{ print $2 }'`"
   ]
  },
  {
   "cell_type": "markdown",
   "metadata": {},
   "source": [
    "## Here Documents\n",
    "- Sometimes it can be useful to provide the input to a script in the script file. The input is right ”here”.\n",
    "```\n",
    "$ cat phone\n",
    "grep \"$*\" <<End\n",
    "Office 046 222 9484\n",
    "Mobile 0767 888 124\n",
    "$X\n",
    "End\n",
    "```\n",
    "- Above script contains both the command and the input.\n",
    "- The variable X is expanded; suppress this behaviour by preceding End with a backslash on first line."
   ]
  },
  {
   "cell_type": "code",
   "execution_count": 24,
   "metadata": {},
   "outputs": [
    {
     "name": "stdout",
     "output_type": "stream",
     "text": [
      "This variable\n",
      "runs over multiple lines.\n"
     ]
    }
   ],
   "source": [
    "variable=$(cat <<SETVAR\n",
    "This variable\n",
    "runs over multiple lines.\n",
    "SETVAR\n",
    ")\n",
    "\n",
    "echo \"$variable\""
   ]
  },
  {
   "cell_type": "markdown",
   "metadata": {},
   "source": [
    "### broadcast: Sends message to everyone logged in\n",
    "```\n",
    "#!/bin/bash\n",
    "\n",
    "wall <<zzz23EndOfMessagezzz23\n",
    "E-mail your noontime orders for pizza to the system administrator.\n",
    "    (Add an extra dollar for anchovy or mushroom topping.)\n",
    "# Additional message text goes here.\n",
    "# Note: 'wall' prints comment lines.\n",
    "zzz23EndOfMessagezzz23\n",
    "\n",
    "# Could have been done more efficiently by\n",
    "#         wall <message-file\n",
    "#  However, embedding the message template in a script\n",
    "#+ is a quick-and-dirty one-off solution.\n",
    "\n",
    "exit\n",
    "```\n"
   ]
  },
  {
   "cell_type": "markdown",
   "metadata": {},
   "source": [
    "more about [here documents](http://tldp.org/LDP/abs/html/here-docs.html)"
   ]
  },
  {
   "cell_type": "markdown",
   "metadata": {},
   "source": [
    "## Functions\n",
    "```\n",
    "function fun()\n",
    "{\n",
    "echo $1 # echo first argument\n",
    "echo $2 # echo second argument\n",
    "}\n",
    "```\n",
    "- The keyword `function` is optional.\n",
    "- A function must be declared before it can be used.\n",
    "- A function can be used as if it was any other UNIX command, i.e. no parentheses when the function is called \n",
    "  (not even for passing arguments)."
   ]
  },
  {
   "cell_type": "code",
   "execution_count": 10,
   "metadata": {},
   "outputs": [
    {
     "name": "stdout",
     "output_type": "stream",
     "text": [
      "ha\n",
      "hi\n",
      "/bin/bash\n",
      "he\n",
      "ho\n",
      "/bin/bash\n",
      "hiii\n",
      "\n",
      "/bin/bash\n"
     ]
    }
   ],
   "source": [
    "function fun()\n",
    "{\n",
    "echo $1 # echo first argument\n",
    "echo $2 # echo second argument\n",
    "echo $0\n",
    "}\n",
    "\n",
    "fun ha hi\n",
    "fun he ho hu\n",
    "fun hiii"
   ]
  },
  {
   "cell_type": "markdown",
   "metadata": {},
   "source": [
    "## Simple Shell Syntax\n",
    "- `a && b` executes `b` only if `a` succeeds (ie returns 0).\n",
    "- `a || b` executes `b` only if `a` fails (ie returns nonzero).\n",
    "\n",
    "The following commands can cause unhappiness if you run out of disk space during tar:\n",
    "```\n",
    "$ tar cf dir.tar dir; rm -rf dir; bzip2 -9v dir.tar\n",
    "```\n",
    "\n",
    "This is better:\n",
    "```\n",
    "$ tar cf dir.tar dir && rm -rf dir && bzip2 -9v dir.tar\n",
    "```\n",
    "Edit-compile-run without leaving the keyboard:\n",
    "```\n",
    "vi a.c && gcc a.c && a.out\n",
    "```\n",
    "But it is better to remap e.g. v, V, or t in `vi` to run `make`"
   ]
  },
  {
   "cell_type": "markdown",
   "metadata": {},
   "source": [
    "## For Loops\n",
    "Iterate through certain files in your the current directory:\n",
    "```\n",
    "for x in *.c\n",
    "do\n",
    "    lpr $x # prints them\n",
    "done\n",
    "```\n",
    "\n",
    "or through all argumets passed to a script:\n",
    "```\n",
    "for x in $*\n",
    "do\n",
    "    lpr $x\n",
    "done\n",
    "```"
   ]
  },
  {
   "cell_type": "code",
   "execution_count": 11,
   "metadata": {},
   "outputs": [
    {
     "name": "stdout",
     "output_type": "stream",
     "text": [
      "EDAF35 Lecture 3.ipynb\n",
      "a.c\n",
      "f1\n",
      "ls-in-home\n",
      "svi\n",
      "svia\n",
      "svib\n"
     ]
    }
   ],
   "source": [
    "for x in *\n",
    "do\n",
    "    echo $x\n",
    "done"
   ]
  },
  {
   "cell_type": "markdown",
   "metadata": {},
   "source": [
    "You can also iterate through a string:"
   ]
  },
  {
   "cell_type": "code",
   "execution_count": 12,
   "metadata": {},
   "outputs": [
    {
     "name": "stdout",
     "output_type": "stream",
     "text": [
      "x\n",
      "y\n",
      "z\n",
      "v\n"
     ]
    }
   ],
   "source": [
    "a=\"x y z v\"\n",
    "for s in $a\n",
    "do\n",
    "    echo $s\n",
    "done"
   ]
  },
  {
   "cell_type": "markdown",
   "metadata": {},
   "source": [
    "Or simply a list:"
   ]
  },
  {
   "cell_type": "code",
   "execution_count": 13,
   "metadata": {},
   "outputs": [
    {
     "name": "stdout",
     "output_type": "stream",
     "text": [
      "a\n",
      "b\n",
      "c\n",
      "b\n"
     ]
    }
   ],
   "source": [
    "for s in a b c b\n",
    "do\n",
    "    echo $s\n",
    "done"
   ]
  },
  {
   "cell_type": "markdown",
   "metadata": {},
   "source": [
    "## While and Until\n",
    "```\n",
    "while command\n",
    "do\n",
    "    body # do body while command returns true\n",
    "done\n",
    "\n",
    "until command\n",
    "do\n",
    "    body # do body while command returns false\n",
    "done\n",
    "```"
   ]
  },
  {
   "cell_type": "markdown",
   "metadata": {},
   "source": [
    "## If-Then-Else-Fi\n",
    "```\n",
    "if command\n",
    "then\n",
    "    then-commands\n",
    "[else\n",
    "    else-commands]\n",
    "fi\n",
    "\n",
    "if ! command\n",
    "then\n",
    "    then-commands\n",
    "[else\n",
    "    else-commands]\n",
    "fi\n",
    "```"
   ]
  },
  {
   "cell_type": "markdown",
   "metadata": {},
   "source": [
    "## Case\n",
    "```\n",
    "case word in\n",
    "pattern1) commands;;\n",
    "pattern2) commands;;\n",
    "*) commands;;\n",
    "esac\n",
    "```\n",
    "\n",
    "- Nothing happens if no pattern matches: putting `*)` last makes a default."
   ]
  },
  {
   "cell_type": "markdown",
   "metadata": {},
   "source": [
    "### Longer example: \n",
    "This is an excerpt of the script that starts Anacron, a daemon that runs commands periodically with a frequency specified in days.\n",
    "```\n",
    "case \"$1\" in\n",
    "        start)\n",
    "            start\n",
    "            ;;\n",
    "         \n",
    "        stop)\n",
    "            stop\n",
    "            ;;\n",
    "         \n",
    "        status)\n",
    "            status anacron\n",
    "            ;;\n",
    "        restart)\n",
    "            stop\n",
    "            start\n",
    "            ;;\n",
    "        condrestart)\n",
    "            if test \"x`pidof anacron`\" != x; then\n",
    "                stop\n",
    "                start\n",
    "            fi\n",
    "            ;;\n",
    "         \n",
    "        *)\n",
    "            echo $\"Usage: $0 {start|stop|restart|condrestart|status}\"\n",
    "            exit 1\n",
    " \n",
    "esac\n",
    "```"
   ]
  },
  {
   "cell_type": "markdown",
   "metadata": {},
   "source": [
    "## cmp, diff, and ndiff\n",
    "- `cmp` reports whether two files are equal.\n",
    "- `diff` does the same but also shows how they differ.\n",
    "- `ndiff` is a variant for which one can specify numerical differences which should be ignored.\n",
    "    - `ndiff` is not standard but easy to find."
   ]
  },
  {
   "cell_type": "markdown",
   "metadata": {},
   "source": [
    "## cut\n",
    "- `cut` cuts out characters from each line of stdin\n",
    "- `ls -l | cut -c2-10` prints the rwx-flags of the files.\n",
    "- The first character on a line is c1.\n",
    "- Multiple ranges can be specified: `ls -l | cut -c2-10 -c51-55` also prints five characters from the file name."
   ]
  },
  {
   "cell_type": "code",
   "execution_count": 15,
   "metadata": {},
   "outputs": [
    {
     "name": "stdout",
     "output_type": "stream",
     "text": [
      "otal 152\n",
      "rw-r--r--\n",
      "rw-r--r--\n",
      "rw-r--r--\n",
      "rw-r--r--\n",
      "rwxr-xr-x\n",
      "rwxr-xr-x\n",
      "rwxr-xr-x\n",
      "total 152\n",
      "-rw-r--r--  1 flagr  staff  50934 Mar 27 11:33 EDAF35 Lecture 3.ipynb\n",
      "-rw-r--r--  1 flagr  staff     14 Mar 26 14:58 a.c\n",
      "-rw-r--r--  1 flagr  staff     30 Mar 27 10:29 f1\n",
      "-rw-r--r--  1 flagr  staff    176 Mar 26 11:07 ls-in-home\n",
      "-rwxr-xr-x  1 flagr  staff     93 Mar 26 15:24 svi\n",
      "-rwxr-xr-x  1 flagr  staff     81 Mar 26 15:26 svia\n",
      "-rwxr-xr-x  1 flagr  staff     93 Mar 26 15:26 svib\n"
     ]
    }
   ],
   "source": [
    "ls -l | cut -c2-10\n",
    "ls -l"
   ]
  },
  {
   "cell_type": "code",
   "execution_count": 16,
   "metadata": {},
   "outputs": [
    {
     "name": "stdout",
     "output_type": "stream",
     "text": [
      "otal 152\n",
      "rw-r--r--F35 L\n",
      "rw-r--r--\n",
      "rw-r--r--\n",
      "rw-r--r--in-ho\n",
      "rwxr-xr-x\n",
      "rwxr-xr-xa\n",
      "rwxr-xr-xb\n"
     ]
    }
   ],
   "source": [
    "ls -l | cut -c2-10 -c51-55"
   ]
  },
  {
   "cell_type": "markdown",
   "metadata": {},
   "source": [
    "## find\n",
    "Example: `find . -name ’*.c’` \n",
    "The output will be a list of files (with full path) with suffix c.\n",
    "\n",
    "We can feed that list to wc using: `wc ‘find . -name ’*.java’‘`\n",
    "The default action is to print the file name.\n",
    "\n",
    "A number of criteria can be specified, including\n",
    "- `-anewer filename` selects files newer than filename.\n",
    "- `-type type` selects files of type type which is one of b,c,d,f,l, p, or s (with the same meaning as printed by `ls -l`: block special file (eg disk), character special file (eg usb port), directory, ordinary file, symbolic link, name pipe, or socket)."
   ]
  },
  {
   "cell_type": "code",
   "execution_count": 17,
   "metadata": {},
   "outputs": [
    {
     "name": "stdout",
     "output_type": "stream",
     "text": [
      "./EDAF35 Lecture 3.ipynb\n",
      "./.ipynb_checkpoints/EDAF35 Lecture 3-checkpoint.ipynb\n",
      "./a.c\n"
     ]
    }
   ],
   "source": [
    "find . -name '*.ipynb'\n",
    "find . -name '*.c'"
   ]
  },
  {
   "cell_type": "markdown",
   "metadata": {},
   "source": [
    "## cleanfiles\n",
    "```\n",
    "find . -name *.tac.??? -exec rm ’{}’ \\;\n",
    "find . -name *.pr -exec rm ’{}’ \\;\n",
    "find . -name cmd.gdb -exec rm ’{}’ \\;\n",
    "find . -name *.ps -exec rm ’{}’ \\;\n",
    "find . -name *.dot -exec rm ’{}’ \\;\n",
    "find . -name *.aux -exec rm ’{}’ \\;\n",
    "find . -name *.o -exec rm ’{}’ \\;\n",
    "find . -name out -exec rm ’{}’ \\;\n",
    "find . -name x -exec rm ’{}’ \\;\n",
    "find . -name y -exec rm ’{}’ \\;\n",
    "find . -name a.out -exec rm ’{}’ \\;\n",
    "find . -name cachegrind.out.* -exec rm ’{}’ \\;\n",
    "```\n",
    "\n",
    "Have a look at `man find`"
   ]
  },
  {
   "cell_type": "markdown",
   "metadata": {},
   "source": [
    "## awk\n",
    "- Stands for Aho (from the [Dragonbook](https://en.wikipedia.org/wiki/Compilers:_Principles,_Techniques,_and_Tools)), Weinberger (from hashpjw in the Dragonbook), and Kernighan (K in K&R C).\n",
    "- Each line of input is separated into fields and are denoted `$1,$2,...`\n",
    "  Assume a variable is called `X` and has value `2`. Then `$X` refers to the second field.\n",
    "- The entire line is `$0`, number of fields on a line is denoted `NF`, and line number is `NR`.\n",
    "- Each line in an `awk` program has *a pattern* and *an action*.\n",
    "  If a line in the input matches the pattern, the action is executed."
   ]
  },
  {
   "cell_type": "markdown",
   "metadata": {},
   "source": [
    "## Example awk programs\n",
    "```\n",
    "$ awk ’{ print $1, $5; }’ # print first and fifth item.\n",
    "$ awk ’$1 > 10 { print $1, $2; }’ # print first two items if $1 is > 10.\n",
    "$ awk ’NR == 10’ # print tenth line.\n",
    "$ awk ’NF > 4’ # print each line with > 4 fields.\n",
    "$ awk ’NF > 0 ’ # print each nonempty line.\n",
    "$ awk ’$NF > 4 ’ # print each line with last field > 4.\n",
    "$ awk ’/abc/ ’ # print each line containing abc.\n",
    "$ awk ’/abc/ { n = n + 1; }\\\n",
    "  END { print n;}’ # print number of lines containing abc.\n",
    "$ awk ’length($0) > 80’ # print each line longer than 80 bytes.\n",
    "```\n",
    "\n",
    "The `END` pattern matches at `EOF`. There is also a `BEGIN` pattern which is matched before the first character is read."
   ]
  },
  {
   "cell_type": "code",
   "execution_count": 18,
   "metadata": {},
   "outputs": [
    {
     "name": "stdout",
     "output_type": "stream",
     "text": [
      "a e\n"
     ]
    }
   ],
   "source": [
    "echo a b c d e | awk '{ print $1, $5; }'\n"
   ]
  },
  {
   "cell_type": "markdown",
   "metadata": {},
   "source": [
    "## head and tail\n",
    "- `head` prints the first 10 lines of a file (or stdin).\n",
    "- `head -100` prints the first 100 lines of a file (or stdin).\n",
    "- `tail` prints the last 10 lines of a file (or stdin).\n",
    "- `tail -100` prints the last 100 lines of a file (or stdin).\n",
    "- `tail -f file` like normal tail but at EOF waits for more data."
   ]
  },
  {
   "cell_type": "markdown",
   "metadata": {},
   "source": [
    "## od\n",
    "- Octal dump\n",
    "- `od file` dumps the file contents on stdout in as octal numbers.\n",
    "- `od -c file` prints file as characters.\n",
    "- `od -x file` prints file as hex numbers."
   ]
  },
  {
   "cell_type": "markdown",
   "metadata": {},
   "source": [
    "## sed\n",
    "- stream editor.\n",
    "- It can be useful for e.g. changing prefixes in a `Yacc` generated parser:\n",
    "```\n",
    "sed ’s/yydebug/pp_debug/g’ y.tab.c > tmp; mv tmp y.tab.c\n",
    "```"
   ]
  },
  {
   "cell_type": "code",
   "execution_count": 19,
   "metadata": {},
   "outputs": [
    {
     "name": "stdout",
     "output_type": "stream",
     "text": [
      "Hahahah b c d HahahahHahahah\n"
     ]
    }
   ],
   "source": [
    "echo a b c d aa | sed 's/a/Hahahah/g' "
   ]
  },
  {
   "cell_type": "markdown",
   "metadata": {},
   "source": [
    "## grep\n",
    "- Grep searches for a pattern in files.\n",
    "- GNU `grep` has the useful `-r` option which traverses directories.\n",
    "- In *basic regular expressions* ?, +, braces, parentheses and bar (i.e. |) have no special meaning. Backslash them to get that.\n",
    "- In *extended regular expressions*, enabled with `-E`, above characters are special. More about that on next slide.\n",
    "```\n",
    "$ grep abc # matches line with abc.\n",
    "$ grep -e ’[abc]’ # matches line with any of a, b, or c.\n",
    "$ grep -e ’[^abc]’ # matches line with none of a, b, or c.\n",
    "$ grep -e ’[^ab-d]’ # matches line with none of a, b, c, or d.\n",
    "$ grep ab*c # matches line with ac, abc, abbbbbc.\n",
    "```"
   ]
  },
  {
   "cell_type": "code",
   "execution_count": 20,
   "metadata": {},
   "outputs": [
    {
     "name": "stdout",
     "output_type": "stream",
     "text": [
      "      \"  466  grep abc EDAF*\\n\",\n",
      "      \"  468  grep abc EDAF*\\n\",\n",
      "      \"  470  grep '[^abc]' EDA*\\n\",\n",
      "      \"  472  grep -e '[^abc]' EDA*\\n\",\n",
      "      \"  474  grep -e '[^abc]' f1\\n\",\n",
      "    \"$ awk ’/abc/ ’ # print each line containing abc.\\n\",\n",
      "    \"$ awk ’/abc/ { n = n + 1; }\\\\\\n\",\n",
      "    \"  END { print n;}’ # print number of lines containing abc.\\n\",\n",
      "    \"$ grep abc # matches line with abc.\\n\",\n",
      "    \"$ grep -e ’[abc]’ # matches line with any of a, b, or c.\\n\",\n",
      "    \"$ grep -e ’[^abc]’ # matches line with none of a, b, or c.\\n\",\n",
      "    \"$ grep ab*c # matches line with ac, abc, abbbbbc.\\n\",\n",
      "      \"    \\\"$ awk ’/abc/ ’ # print each line containing abc.\\\\n\\\",\\n\",\n",
      "      \"    \\\"$ awk ’/abc/ { n = n + 1; }\\\\\\\\\\\\n\\\",\\n\",\n",
      "      \"    \\\"  END { print n;}’ # print number of lines containing abc.\\\\n\\\",\\n\",\n",
      "      \"    \\\"$ grep abc # matches line with abc.\\\\n\\\",\\n\",\n",
      "      \"    \\\"$ grep -e ’[abc]’ # matches line with any of a, b, or c.\\\\n\\\",\\n\",\n",
      "      \"    \\\"$ grep -e ’[^abc]’ # matches line with none of a, b, or c.\\\\n\\\",\\n\",\n",
      "      \"    \\\"$ grep ab*c # matches line with ac, abc, abbbbbc.\\\\n\\\",\\n\"\n",
      "    \"grep abc EDAF*\"\n"
     ]
    }
   ],
   "source": [
    "grep abc EDAF*"
   ]
  },
  {
   "cell_type": "code",
   "execution_count": 21,
   "metadata": {},
   "outputs": [
    {
     "name": "stdout",
     "output_type": "stream",
     "text": [
      "Hello\n",
      " world!\n",
      " world!\n",
      " world!\n",
      "----------------------\n",
      " world!\n",
      " world!\n",
      " world!\n"
     ]
    }
   ],
   "source": [
    "cat f1\n",
    "echo ----------------------\n",
    "grep -e '[^leoH]' f1"
   ]
  },
  {
   "cell_type": "code",
   "execution_count": 15,
   "metadata": {},
   "outputs": [
    {
     "name": "stdout",
     "output_type": "stream",
     "text": [
      "Hello\n",
      " world!\n"
     ]
    }
   ],
   "source": [
    "grep -e '[^leo]' f1"
   ]
  },
  {
   "cell_type": "markdown",
   "metadata": {},
   "source": [
    "## grep -E\n",
    "```\n",
    "$ grep -E -e ’a|b’ # matches line with a or b.\n",
    "$ grep -E -e ’a|bc’ # matches line with a or bc.\n",
    "$ grep -E -e ’(a|b)c’ # matches line with a or b, followed by c.\n",
    "$ grep -E -e ’(a|b)?c’ # ? denotes optional item.\n",
    "$ grep -E -e ’(a|b)+c’ # + denotes at least once.\n",
    "$ grep -E -e ’(a|b)*c’ # + denotes zero or more.\n",
    "$ grep -E -e ’(a|b){4}c’ # {4} matches pattern four times.\n",
    "```\n",
    "\n",
    "- Without -E use backslash before above metacharacters.\n",
    "- Without ' the shell will try to setup a *pipe* ... `|`"
   ]
  },
  {
   "cell_type": "markdown",
   "metadata": {},
   "source": [
    "## sort and uniq\n",
    "- `sort file` sorts a file alphabetically.\n",
    "- `sort -n file` sorts a file numerically.\n",
    "- `uniq` removes duplicates line if found in sequence"
   ]
  },
  {
   "cell_type": "code",
   "execution_count": 22,
   "metadata": {},
   "outputs": [
    {
     "name": "stdout",
     "output_type": "stream",
     "text": [
      " world!\n",
      " world!\n",
      " world!\n",
      "Hello\n"
     ]
    }
   ],
   "source": [
    "sort f1"
   ]
  },
  {
   "cell_type": "code",
   "execution_count": 18,
   "metadata": {},
   "outputs": [
    {
     "name": "stdout",
     "output_type": "stream",
     "text": [
      "#!/bin/bash\n",
      "vi -c /$1 `egrep -e $1 *.[ch] */*.[ych] | awk -F: '{ print $1; }' | uniq | sort`\n"
     ]
    }
   ],
   "source": [
    "cat svi"
   ]
  },
  {
   "cell_type": "markdown",
   "metadata": {},
   "source": [
    "### What does the above script do?"
   ]
  },
  {
   "cell_type": "code",
   "execution_count": null,
   "metadata": {
    "collapsed": true
   },
   "outputs": [],
   "source": []
  }
 ],
 "metadata": {
  "kernelspec": {
   "display_name": "Bash",
   "language": "bash",
   "name": "bash"
  },
  "language_info": {
   "codemirror_mode": "shell",
   "file_extension": ".sh",
   "mimetype": "text/x-sh",
   "name": "bash"
  }
 },
 "nbformat": 4,
 "nbformat_minor": 2
}
